{
 "cells": [
  {
   "cell_type": "markdown",
   "metadata": {},
   "source": [
    "# Lab 1: Information Retrieval"
   ]
  },
  {
   "cell_type": "markdown",
   "metadata": {},
   "source": [
    "__Students:__ "
   ]
  },
  {
   "cell_type": "markdown",
   "metadata": {},
   "source": [
    "### Crawling\n",
    "\n"
   ]
  },
  {
   "cell_type": "markdown",
   "metadata": {},
   "source": [
    "a) Get the webpage content by using functions in \n",
    "__[urllib module](https://docs.python.org/3/library/urllib.html#module-urllib)__.\n",
    "\n",
    "Other libraries are also fine to achieve the crawling.\n",
    "\n",
    "e.g. scrapy, beautifulsoup... "
   ]
  },
  {
   "cell_type": "code",
   "execution_count": 1,
   "metadata": {},
   "outputs": [],
   "source": [
    "import urllib.request\n",
    "import re\n",
    "\n",
    "\n",
    "x = urllib.request.urlopen('https://play.google.com/store/apps/category/GAME?hl=en').read().decode('utf-8')\n"
   ]
  },
  {
   "cell_type": "code",
   "execution_count": 2,
   "metadata": {},
   "outputs": [
    {
     "name": "stdout",
     "output_type": "stream",
     "text": [
      "['/store/apps/category/GAME_ACTION', '/store/apps/category/GAME_ADVENTURE', '/store/apps/category/GAME_ARCADE', '/store/apps/category/GAME_BOARD', '/store/apps/category/GAME_CARD', '/store/apps/category/GAME_CASINO', '/store/apps/category/GAME_CASUAL', '/store/apps/category/GAME_EDUCATIONAL', '/store/apps/category/GAME_MUSIC', '/store/apps/category/GAME_PUZZLE', '/store/apps/category/GAME_RACING', '/store/apps/category/GAME_ROLE_PLAYING', '/store/apps/category/GAME_SIMULATION', '/store/apps/category/GAME_SPORTS', '/store/apps/category/GAME_STRATEGY', '/store/apps/category/GAME_TRIVIA', '/store/apps/category/GAME_WORD', '/store/apps/category/GAME_ACTION', '/store/apps/category/GAME_ADVENTURE', '/store/apps/category/GAME_ARCADE', '/store/apps/category/GAME_BOARD', '/store/apps/category/GAME_CARD', '/store/apps/category/GAME_CASINO', '/store/apps/category/GAME_CASUAL', '/store/apps/category/GAME_EDUCATIONAL', '/store/apps/category/GAME_MUSIC', '/store/apps/category/GAME_PUZZLE', '/store/apps/category/GAME_RACING', '/store/apps/category/GAME_ROLE_PLAYING', '/store/apps/category/GAME_SIMULATION', '/store/apps/category/GAME_SPORTS', '/store/apps/category/GAME_STRATEGY', '/store/apps/category/GAME_TRIVIA', '/store/apps/category/GAME_WORD']\n"
     ]
    }
   ],
   "source": [
    "# Get all games from start page\n",
    "appreg = r'href=\\\"(/store/apps/details.*?)\\\"'\n",
    "appre = re.compile(appreg)\n",
    "app_url_list = re.findall(appre,x)\n",
    "\n",
    "# Get all game categories\n",
    "reg1 = r'href=\\\"(/store/apps/category/GAME_.*?)\\\"'\n",
    "cat_re = re.compile(reg1)\n",
    "cat_url_list = re.findall(cat_re,x)\n",
    "print(cat_url_list)"
   ]
  },
  {
   "cell_type": "markdown",
   "metadata": {},
   "source": [
    "b) Get app url by regular expression using functions from __[re module](https://docs.python.org/3/library/re.html?highlight=re#module-re)__.\n",
    "\n",
    "A useful online regular expression check.\n",
    "__[Check your regular expression first](https://regex101.com)__."
   ]
  },
  {
   "cell_type": "code",
   "execution_count": 3,
   "metadata": {},
   "outputs": [
    {
     "name": "stdout",
     "output_type": "stream",
     "text": [
      "1712\n",
      "['/store/apps/details?id=com.VegasCasinoGames.ChineseSlots', '/store/apps/details?id=com.kongregate.mobile.cobra.google', '/store/apps/details?id=com.gameinsight.tribez', '/store/apps/details?id=com.zitga.ninja.stickman.legends.shadow.wars', '/store/apps/details?id=com.gameinsight.airport', '/store/apps/details?id=pl.com.berobasket.speedwaychallengecareer.android', '/store/apps/details?id=dja.bestapp.jojosiwaa.piano.pro', '/store/apps/details?id=com.teamlava.bubble', '/store/apps/details?id=com.playrix.gardenscapes', '/store/apps/details?id=com.MileStoneStudios.SuperheroFlash.multispeed.LightningSpeedster.hero']\n"
     ]
    }
   ],
   "source": [
    "start = 'https://play.google.com'\n",
    "url_ending = '/collection/topselling_new_free?hl=en'\n",
    "url_ending2 = '/collection/topgrossing?hl=en'\n",
    "# Get games from all categories, use topselling and topgrossing for more results\n",
    "for e in cat_url_list:\n",
    "    x = urllib.request.urlopen(start+e+url_ending).read().decode('utf-8')\n",
    "    app_url_list += re.findall(appre,x)\n",
    "    x = urllib.request.urlopen(start+e+url_ending2).read().decode('utf-8')\n",
    "    app_url_list += re.findall(appre,x)\n",
    "app_url_list = list(set(app_url_list))\n",
    "print(len(app_url_list))\n",
    "print(app_url_list[:10])"
   ]
  },
  {
   "cell_type": "markdown",
   "metadata": {},
   "source": [
    "c) Access specific webpage to get description of each app and then store the description in files."
   ]
  },
  {
   "cell_type": "code",
   "execution_count": 4,
   "metadata": {},
   "outputs": [
    {
     "name": "stdout",
     "output_type": "stream",
     "text": [
      "itemprop=\"description\"><content>• The mischievous Pixies are catching butterflies! Take part in a new event, help the butterflies return to the Sakura, and they’ll lead you to great rewards! Collect as many cherries as possible and get new decorations!<br>• New exciting mini-game! The branches of the Sakura hold many resources: clear them to reach the most valuable reward!<br>• Don&#39;t miss the epic Black Friday event at the end of November! Unbelievable prices and unique offers await everyone!</content><div jsname=\"WgKync\" class=\"uwAgLc\"></div>\n"
     ]
    }
   ],
   "source": [
    "# Regex to extract app descriptions\n",
    "desc_re = r'itemprop=\\\"description.*?\\\">.*?<div jsname=\\\".*?\\\">.*?</div>'\n",
    "desc_reg = re.compile(desc_re)\n",
    "descriptions = []\n",
    "\n",
    "# Get raw description text\n",
    "for url_ in app_url_list:\n",
    "    x = urllib.request.urlopen(start+url_+'&hl=en').read().decode('utf-8')\n",
    "    descriptions += re.findall(desc_reg,x)\n",
    "print(descriptions[4])"
   ]
  },
  {
   "cell_type": "code",
   "execution_count": 5,
   "metadata": {},
   "outputs": [
    {
     "name": "stdout",
     "output_type": "stream",
     "text": [
      "New release\n"
     ]
    }
   ],
   "source": [
    "get_text_re = r'(?<=\\<content\\>)(.*)(?=\\</content)'\n",
    "get_text_reg = re.compile(get_text_re)\n",
    "desc_texts = []\n",
    "# Remove html-tags from the text\n",
    "for desc in descriptions:\n",
    "    tmp = re.findall(get_text_re,desc)\n",
    "    if tmp != []:\n",
    "        text = tmp[0].replace('<br>',' ')\n",
    "        desc_texts += [text]\n",
    "        \n",
    "print(desc_texts[22])"
   ]
  },
  {
   "cell_type": "code",
   "execution_count": 6,
   "metadata": {},
   "outputs": [],
   "source": [
    "import numpy as np\n",
    "\n",
    "np.save('descriptions',desc_texts)"
   ]
  },
  {
   "cell_type": "code",
   "execution_count": 7,
   "metadata": {},
   "outputs": [],
   "source": [
    "desc_texts = np.load('descriptions.npy')"
   ]
  },
  {
   "cell_type": "markdown",
   "metadata": {},
   "source": [
    "### Construct Inverted file index (Vector Model)\n",
    "\n"
   ]
  },
  {
   "cell_type": "markdown",
   "metadata": {},
   "source": [
    "d) Preprocess text using NLP techniques from __[nltk module](http://www.nltk.org/py-modindex.html)__ or spaCy.\n",
    "\n",
    "Using nltk.download(ID) to get the corpora if it is not downloaded before. __[nltk corpora](http://www.nltk.org/nltk_data/)__"
   ]
  },
  {
   "cell_type": "code",
   "execution_count": 8,
   "metadata": {},
   "outputs": [
    {
     "name": "stdout",
     "output_type": "stream",
     "text": [
      "[nltk_data] Downloading package stopwords to\n",
      "[nltk_data]     /home/johmy592/nltk_data...\n",
      "[nltk_data]   Package stopwords is already up-to-date!\n"
     ]
    },
    {
     "data": {
      "text/plain": [
       "True"
      ]
     },
     "execution_count": 8,
     "metadata": {},
     "output_type": "execute_result"
    }
   ],
   "source": [
    "import nltk\n",
    "nltk.download('stopwords')"
   ]
  },
  {
   "cell_type": "code",
   "execution_count": 9,
   "metadata": {},
   "outputs": [
    {
     "name": "stdout",
     "output_type": "stream",
     "text": [
      "new release\n"
     ]
    }
   ],
   "source": [
    "import string\n",
    "# Romove non alphanumerical characters, and fix ' signs\n",
    "for i in range(len(desc_texts)):\n",
    "    desc_texts[i] = ''.join(ch.lower() for ch in desc_texts[i] if ch.isalnum() or ch==' ')\n",
    "    desc_texts[i] = desc_texts[i].replace('39','\\'')\n",
    "    \n",
    "print(desc_texts[22])"
   ]
  },
  {
   "cell_type": "code",
   "execution_count": 10,
   "metadata": {},
   "outputs": [
    {
     "name": "stdout",
     "output_type": "stream",
     "text": [
      "['700', 'level', 'discover', 'exciting', 'new', 'level', 'across', 'ton', 'beautiful', 'island', 'new', 'weekly', 'reward', 'collect', 'puzzle', 'piece', 'level', 'win', 'weekly', 'prize', 'new', 'leaderboard', 'compete', 'win', 'prize', 'based', 'weekly', 'rank']\n"
     ]
    }
   ],
   "source": [
    "from nltk.tokenize import word_tokenize\n",
    "from nltk.corpus import stopwords\n",
    "from nltk.stem import WordNetLemmatizer\n",
    "\n",
    "wnl = WordNetLemmatizer()\n",
    "# Tokenize, lemmatize and remove stopwords\n",
    "tokens = [word_tokenize(t) for t in desc_texts]\n",
    "tokens = [[wnl.lemmatize(t) for t in d if t not in stopwords.words('english')] for d in tokens]\n",
    "print(tokens[6])"
   ]
  },
  {
   "cell_type": "markdown",
   "metadata": {},
   "source": [
    "...)Compute tdidf \n",
    "eg. Using functions from __[scikit-learn module](http://scikit-learn.org/stable/modules/classes.html)__. TfidfVectorizer is used for converting a collection of raw documents to a matrix of TF-IDF features.\n",
    "#### You can also build the tfidf matrix with other library or your own algorithm"
   ]
  },
  {
   "cell_type": "code",
   "execution_count": 11,
   "metadata": {
    "scrolled": true
   },
   "outputs": [
    {
     "name": "stdout",
     "output_type": "stream",
     "text": [
      "[[0.         0.46979139 0.58028582 0.38408524 0.         0.\n",
      "  0.38408524 0.         0.38408524]\n",
      " [0.         0.27925389 0.         0.22830836 0.         0.87501037\n",
      "  0.22830836 0.         0.22830836]\n",
      " [0.51184851 0.         0.         0.26710379 0.51184851 0.\n",
      "  0.26710379 0.51184851 0.26710379]\n",
      " [0.         0.46979139 0.58028582 0.38408524 0.         0.\n",
      "  0.38408524 0.         0.38408524]]\n",
      "['and', 'document', 'first', 'is', 'one', 'second', 'the', 'third', 'this']\n"
     ]
    }
   ],
   "source": [
    "from sklearn.feature_extraction.text import TfidfVectorizer\n",
    "transvector = TfidfVectorizer()\n",
    "corpus = [\n",
    "     'This is the first document.',\n",
    "     'This is the second second document.',\n",
    "     'And this is the third one.',\n",
    "     'Is this the first document?',]\n",
    "tfidf1 = transvector.fit_transform(corpus)\n",
    "print(tfidf1.toarray())\n",
    "print(transvector.get_feature_names())\n"
   ]
  },
  {
   "cell_type": "code",
   "execution_count": 12,
   "metadata": {},
   "outputs": [],
   "source": [
    "# Create a Tfidf model using sklearns built in model\n",
    "# Overload preprocessor and tokenizer since we have already done this\n",
    "transvector = TfidfVectorizer(preprocessor=lambda x: x, tokenizer=lambda x: x)\n",
    "tfidf1 = transvector.fit_transform(tokens)"
   ]
  },
  {
   "cell_type": "code",
   "execution_count": 13,
   "metadata": {
    "scrolled": true
   },
   "outputs": [],
   "source": [
    "import scipy as sp\n",
    "from scipy.sparse import csr_matrix"
   ]
  },
  {
   "cell_type": "markdown",
   "metadata": {},
   "source": [
    "### Query Process\n",
    "\n",
    "eg. \"Dragon, Control, hero, running\"\n",
    "\n",
    "eg. \"The hero controls the dragon to run.\"\n",
    "\n"
   ]
  },
  {
   "cell_type": "code",
   "execution_count": 14,
   "metadata": {},
   "outputs": [],
   "source": [
    "\n",
    "def preprocess_search(search_term):\n",
    "    '''\n",
    "    Preprocess search term in the same way as the descriptions before\n",
    "    '''\n",
    "    tolower = ''.join(ch.lower() for ch in search_term if ch.isalnum() or ch==' ')\n",
    "    tok = word_tokenize(tolower) \n",
    "    return [wnl.lemmatize(t) for t in tok if t not in stopwords.words('english')]\n",
    "\n",
    "def get_top_results(search_term,k):\n",
    "    '''\n",
    "    Find the indices of the k best matches by cosine-similarities \n",
    "    between the tf-idf vectors\n",
    "    '''\n",
    "    real_search = preprocess_search(search_term)\n",
    "    search_vec = transvector.transform([real_search])\n",
    "    similarities = tfidf1.dot(search_vec.transpose())\n",
    "    return np.argsort(similarities.toarray()[:,0])[-k:][::-1]\n",
    "    "
   ]
  },
  {
   "cell_type": "code",
   "execution_count": 15,
   "metadata": {},
   "outputs": [
    {
     "name": "stdout",
     "output_type": "stream",
     "text": [
      "[ 514   20  577 1215   51]\n",
      "###### Match  514\n",
      "  metal guns   choose your gun and enjoy it  \n",
      "\n",
      "###### Match  20\n",
      " epic guns enjoy the legendary arsenal of mr gun  beast outfits beast mode is on  coming soon explosive guns and new secret set of outfits \n",
      "\n",
      "###### Match  577\n",
      "launch of turn undead 2 monster hunter the sequel to our turnbased puzzle platformer \n",
      "\n",
      "###### Match  1215\n",
      "update 48 is here  halloween is coming to guns of boom get ready for a new actionpacked event  new spooky map  new fearinducing gun   new healing helmet  new ghastly animated costume  tons of bloodcurdling cosmetics to make you the spookiest gunslinger out there  share feature for your profile let the world know how tough you are at the push of a button  new looks customize your character even further with cool mustaches and more \n",
      "\n",
      "###### Match  51\n",
      "new game \n",
      "\n"
     ]
    }
   ],
   "source": [
    "\n",
    "# Test our search\n",
    "search_text = 'gun game platformer'\n",
    "results = get_top_results(search_text,5)\n",
    "print(results)\n",
    "for i in results:\n",
    "    print('###### Match ', i)\n",
    "    print(desc_texts[i], '\\n')\n",
    "   "
   ]
  },
  {
   "cell_type": "code",
   "execution_count": 16,
   "metadata": {},
   "outputs": [
    {
     "name": "stdout",
     "output_type": "stream",
     "text": [
      "[ 853  673  824 1278  316]\n",
      "###### Match  853\n",
      "roulette strategy amp game \n",
      "\n",
      "###### Match  673\n",
      "first release of onitama  features  full game  solo several difficulty levels vs artificial intelligence  pass and play unlock by connecting asmodee account  online mode sensei's path extension 20 new cards  customize boards with new music medieval and science fiction \n",
      "\n",
      "###### Match  824\n",
      "to celebrate winning the queens enterprise award for innovation weve created two all new official scenarios  new ultimate board games scenario make a bestselling board game in this radically different scenario that has nothing to do with disease  new science denial scenario people around the world have stopped believing in science medicine and even diseases \n",
      "\n",
      "###### Match  1278\n",
      "the wait is finally over welcome to armello on android  the king has fallen to a dark corruption and its up to you to stop him and your opponents for the good of armello choose your hero and step into the fray leverage subterfuge spells and careful strategy to wrangle control of the game's chaotic odds as you quest for the throne  play through the prologue first get comfortable in singleplayer and then try your odds in multiplayer  good luck adventurer \n",
      "\n",
      "###### Match  316\n",
      " we have added new community translations  our devoted players have taught your civilizations to speak french italian and brazilian portuguese with more languages to come later  an official korean localization has also been added  income management becomes easier  you can now easily see where all your food resources science culture happy faces and strength come from  play online on your mobile network  the ipv6 issue has finally been defeated  lobby and game chat have been improved \n",
      "\n"
     ]
    }
   ],
   "source": [
    "search_text = 'strategy science fiction'\n",
    "results = get_top_results(search_text,5)\n",
    "print(results)\n",
    "for i in results:\n",
    "    print('###### Match ', i)\n",
    "    print(desc_texts[i], '\\n')"
   ]
  }
 ],
 "metadata": {
  "kernelspec": {
   "display_name": "Python 3",
   "language": "python",
   "name": "python3"
  },
  "language_info": {
   "codemirror_mode": {
    "name": "ipython",
    "version": 3
   },
   "file_extension": ".py",
   "mimetype": "text/x-python",
   "name": "python",
   "nbconvert_exporter": "python",
   "pygments_lexer": "ipython3",
   "version": "3.4.3"
  }
 },
 "nbformat": 4,
 "nbformat_minor": 2
}
